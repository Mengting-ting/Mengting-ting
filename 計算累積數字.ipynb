{
  "nbformat": 4,
  "nbformat_minor": 0,
  "metadata": {
    "colab": {
      "provenance": [],
      "authorship_tag": "ABX9TyMfDMXzxX3QpEjxGVw3weoE",
      "include_colab_link": true
    },
    "kernelspec": {
      "name": "python3",
      "display_name": "Python 3"
    },
    "language_info": {
      "name": "python"
    }
  },
  "cells": [
    {
      "cell_type": "markdown",
      "metadata": {
        "id": "view-in-github",
        "colab_type": "text"
      },
      "source": [
        "<a href=\"https://colab.research.google.com/github/Mengting-ting/Mengting-ting/blob/main/%E8%A8%88%E7%AE%97%E7%B4%AF%E7%A9%8D%E6%95%B8%E5%AD%97.ipynb\" target=\"_parent\"><img src=\"https://colab.research.google.com/assets/colab-badge.svg\" alt=\"Open In Colab\"/></a>"
      ]
    },
    {
      "cell_type": "code",
      "execution_count": 2,
      "metadata": {
        "id": "ayzQOfy2lr32"
      },
      "outputs": [],
      "source": [
        "Q1=26295929"
      ]
    },
    {
      "cell_type": "code",
      "source": [
        "Q2=27668242"
      ],
      "metadata": {
        "id": "GDUdF1MTt-C8"
      },
      "execution_count": 3,
      "outputs": []
    },
    {
      "cell_type": "code",
      "source": [
        "Q3=27002293"
      ],
      "metadata": {
        "id": "878_D6vpt-ok"
      },
      "execution_count": 4,
      "outputs": []
    },
    {
      "cell_type": "code",
      "source": [
        "Q4=28347871"
      ],
      "metadata": {
        "id": "So8C7NnPuBNj"
      },
      "execution_count": 5,
      "outputs": []
    },
    {
      "cell_type": "code",
      "source": [
        "ACC_Q1=Q1\n",
        "print(ACC_Q1)"
      ],
      "metadata": {
        "colab": {
          "base_uri": "https://localhost:8080/"
        },
        "id": "6ORGGIj1uTnU",
        "outputId": "60c49d72-ce80-4dc4-9bcd-e55e2bde96be"
      },
      "execution_count": 7,
      "outputs": [
        {
          "output_type": "stream",
          "name": "stdout",
          "text": [
            "26295929\n"
          ]
        }
      ]
    },
    {
      "cell_type": "code",
      "source": [
        "ACC_Q2=Q1+Q2\n",
        "print(ACC_Q2)"
      ],
      "metadata": {
        "colab": {
          "base_uri": "https://localhost:8080/"
        },
        "id": "MOrJ5ry-u7u7",
        "outputId": "b5e9f367-791b-45b7-cca7-63006bec6916"
      },
      "execution_count": 9,
      "outputs": [
        {
          "output_type": "stream",
          "name": "stdout",
          "text": [
            "53964171\n"
          ]
        }
      ]
    },
    {
      "cell_type": "code",
      "source": [
        "ACC_Q3=Q1+Q2+Q3\n",
        "print(ACC_Q3)"
      ],
      "metadata": {
        "colab": {
          "base_uri": "https://localhost:8080/"
        },
        "id": "08vyppDsvlRa",
        "outputId": "5456bbca-2504-4251-b942-aa7a2d5c13bd"
      },
      "execution_count": 10,
      "outputs": [
        {
          "output_type": "stream",
          "name": "stdout",
          "text": [
            "80966464\n"
          ]
        }
      ]
    },
    {
      "cell_type": "code",
      "source": [
        "ACC_Q4=Q1+Q2+Q3+Q4\n",
        "print(ACC_Q4)"
      ],
      "metadata": {
        "colab": {
          "base_uri": "https://localhost:8080/"
        },
        "id": "CkBs3YZBwEpS",
        "outputId": "80eacda6-3641-4474-c353-0fa6415d2dcf"
      },
      "execution_count": 11,
      "outputs": [
        {
          "output_type": "stream",
          "name": "stdout",
          "text": [
            "109314335\n"
          ]
        }
      ]
    },
    {
      "cell_type": "code",
      "source": [],
      "metadata": {
        "id": "vtNrT9gPwORz"
      },
      "execution_count": null,
      "outputs": []
    }
  ]
}